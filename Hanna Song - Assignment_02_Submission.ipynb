{
 "cells": [
  {
   "cell_type": "markdown",
   "id": "285b6b13-b547-4b3d-8697-53b27a50f124",
   "metadata": {
    "tags": []
   },
   "source": [
    "# Tasks for Assignment 02 - PostgresSQL\n",
    "*EMSE 6586 - DBMS for Analytics*\n",
    "\n",
    "Due **3/9/2022 @ 11:59pm**"
   ]
  },
  {
   "cell_type": "markdown",
   "id": "0c9d65a4-bc3f-4c7c-8c8d-a92c3105717c",
   "metadata": {},
   "source": [
    "*Notes:*\n",
    " - All code should follow the PEP 8 Style Guide for Python\n",
    " - Assignment should be submitted using jupyter notebooks\n",
    "  - File name should follow “{Your Name} – Assignment_XX_Submission”\n",
    "  - Each Task should be contained in its own cell\n",
    "  - Each Task should be properly commented\n",
    "  - Each Task should print out the answer to the Task if appropriate\n",
    "  - Sample submission can be found on blackboard\n",
    "  - **Not following these standards may result in lost points**"
   ]
  },
  {
   "cell_type": "code",
   "execution_count": 1,
   "id": "9e3f1db0-2e46-4a52-bc22-2ae2c58d6481",
   "metadata": {
    "tags": []
   },
   "outputs": [],
   "source": [
    "import psycopg2\n",
    "import psycopg2.extras\n",
    "import pandas as pd\n",
    "\n",
    "# Connect to the database\n",
    "connection = psycopg2.connect(host='3.230.203.12',\n",
    "                             user='compdb',\n",
    "                             port=5438,\n",
    "                             database='twitter',\n",
    "                             password='compdbs_postgres')\n",
    "connection.set_session(readonly=True, autocommit=True)\n",
    "\n",
    "cursor = connection.cursor(cursor_factory = psycopg2.extras.RealDictCursor)"
   ]
  },
  {
   "cell_type": "markdown",
   "id": "46d64c58-1c66-41ce-8620-879d8b981598",
   "metadata": {},
   "source": [
    "## Task 1\n",
    "\n",
    "Create a pandas dataframe that is loaded with the records returned from joining the **favorites**, **statuses**, and **users** tables.\n",
    " - You may limit output to improve response time (I would recommend 100 records to start)\n",
    "\n",
    "_Note: Ensure you are joining tables based on their foreign key dependencies_"
   ]
  },
  {
   "cell_type": "code",
   "execution_count": 2,
   "id": "34bfd8c9-6245-4ca0-9626-90db03881403",
   "metadata": {},
   "outputs": [],
   "source": [
    "import pandas as pd\n",
    "cursor.execute(\"select * from twitter.users inner join twitter.statuses on users.user_id = statuses.user_id inner join twitter.favorites on users.user_id = favorites.user_id LIMIT 100;\")\n",
    "res = cursor.fetchall()"
   ]
  },
  {
   "cell_type": "code",
   "execution_count": 3,
   "id": "b50154e8",
   "metadata": {},
   "outputs": [
    {
     "data": {
      "text/html": [
       "<div>\n",
       "<style scoped>\n",
       "    .dataframe tbody tr th:only-of-type {\n",
       "        vertical-align: middle;\n",
       "    }\n",
       "\n",
       "    .dataframe tbody tr th {\n",
       "        vertical-align: top;\n",
       "    }\n",
       "\n",
       "    .dataframe thead th {\n",
       "        text-align: right;\n",
       "    }\n",
       "</style>\n",
       "<table border=\"1\" class=\"dataframe\">\n",
       "  <thead>\n",
       "    <tr style=\"text-align: right;\">\n",
       "      <th></th>\n",
       "      <th>created_date</th>\n",
       "      <th>description</th>\n",
       "      <th>favorites_count</th>\n",
       "      <th>friends_count</th>\n",
       "      <th>user_id</th>\n",
       "      <th>listed_count</th>\n",
       "      <th>location</th>\n",
       "      <th>name</th>\n",
       "      <th>screen_name</th>\n",
       "      <th>statuses_count</th>\n",
       "      <th>url</th>\n",
       "      <th>verified</th>\n",
       "      <th>status_id</th>\n",
       "      <th>lang</th>\n",
       "      <th>retweet_count</th>\n",
       "      <th>source</th>\n",
       "      <th>text</th>\n",
       "      <th>truncated</th>\n",
       "      <th>user_screen_name</th>\n",
       "    </tr>\n",
       "  </thead>\n",
       "  <tbody>\n",
       "    <tr>\n",
       "      <th>0</th>\n",
       "      <td>2021-01-07</td>\n",
       "      <td>4th from the Sun, also known as the Red Planet...</td>\n",
       "      <td>1508</td>\n",
       "      <td>72</td>\n",
       "      <td>1091459141397180416</td>\n",
       "      <td>121</td>\n",
       "      <td>The Milkyway Galaxy</td>\n",
       "      <td>Mars</td>\n",
       "      <td>4thFromOurStar</td>\n",
       "      <td>253</td>\n",
       "      <td>None</td>\n",
       "      <td>None</td>\n",
       "      <td>1175048579829944320</td>\n",
       "      <td>en</td>\n",
       "      <td>56</td>\n",
       "      <td>&lt;a href=\"http://twitter.com/download/android\" ...</td>\n",
       "      <td>I do enjoy playing hard to get 😉 https://t.co/...</td>\n",
       "      <td>None</td>\n",
       "      <td>4thFromOurStar</td>\n",
       "    </tr>\n",
       "    <tr>\n",
       "      <th>1</th>\n",
       "      <td>2021-01-07</td>\n",
       "      <td>4th from the Sun, also known as the Red Planet...</td>\n",
       "      <td>1508</td>\n",
       "      <td>72</td>\n",
       "      <td>1091459141397180416</td>\n",
       "      <td>121</td>\n",
       "      <td>The Milkyway Galaxy</td>\n",
       "      <td>Mars</td>\n",
       "      <td>4thFromOurStar</td>\n",
       "      <td>253</td>\n",
       "      <td>None</td>\n",
       "      <td>None</td>\n",
       "      <td>1234671272602193920</td>\n",
       "      <td>en</td>\n",
       "      <td>56</td>\n",
       "      <td>&lt;a href=\"http://twitter.com/download/android\" ...</td>\n",
       "      <td>I do enjoy playing hard to get 😉 https://t.co/...</td>\n",
       "      <td>None</td>\n",
       "      <td>4thFromOurStar</td>\n",
       "    </tr>\n",
       "    <tr>\n",
       "      <th>2</th>\n",
       "      <td>2021-01-07</td>\n",
       "      <td>4th from the Sun, also known as the Red Planet...</td>\n",
       "      <td>1508</td>\n",
       "      <td>72</td>\n",
       "      <td>1091459141397180416</td>\n",
       "      <td>121</td>\n",
       "      <td>The Milkyway Galaxy</td>\n",
       "      <td>Mars</td>\n",
       "      <td>4thFromOurStar</td>\n",
       "      <td>253</td>\n",
       "      <td>None</td>\n",
       "      <td>None</td>\n",
       "      <td>1234762156740050944</td>\n",
       "      <td>en</td>\n",
       "      <td>56</td>\n",
       "      <td>&lt;a href=\"http://twitter.com/download/android\" ...</td>\n",
       "      <td>I do enjoy playing hard to get 😉 https://t.co/...</td>\n",
       "      <td>None</td>\n",
       "      <td>4thFromOurStar</td>\n",
       "    </tr>\n",
       "    <tr>\n",
       "      <th>3</th>\n",
       "      <td>2021-01-07</td>\n",
       "      <td>4th from the Sun, also known as the Red Planet...</td>\n",
       "      <td>1508</td>\n",
       "      <td>72</td>\n",
       "      <td>1091459141397180416</td>\n",
       "      <td>121</td>\n",
       "      <td>The Milkyway Galaxy</td>\n",
       "      <td>Mars</td>\n",
       "      <td>4thFromOurStar</td>\n",
       "      <td>253</td>\n",
       "      <td>None</td>\n",
       "      <td>None</td>\n",
       "      <td>1236029449042198528</td>\n",
       "      <td>en</td>\n",
       "      <td>56</td>\n",
       "      <td>&lt;a href=\"http://twitter.com/download/android\" ...</td>\n",
       "      <td>I do enjoy playing hard to get 😉 https://t.co/...</td>\n",
       "      <td>None</td>\n",
       "      <td>4thFromOurStar</td>\n",
       "    </tr>\n",
       "    <tr>\n",
       "      <th>4</th>\n",
       "      <td>2021-01-07</td>\n",
       "      <td>4th from the Sun, also known as the Red Planet...</td>\n",
       "      <td>1508</td>\n",
       "      <td>72</td>\n",
       "      <td>1091459141397180416</td>\n",
       "      <td>121</td>\n",
       "      <td>The Milkyway Galaxy</td>\n",
       "      <td>Mars</td>\n",
       "      <td>4thFromOurStar</td>\n",
       "      <td>253</td>\n",
       "      <td>None</td>\n",
       "      <td>None</td>\n",
       "      <td>1237204618850992129</td>\n",
       "      <td>en</td>\n",
       "      <td>56</td>\n",
       "      <td>&lt;a href=\"http://twitter.com/download/android\" ...</td>\n",
       "      <td>I do enjoy playing hard to get 😉 https://t.co/...</td>\n",
       "      <td>None</td>\n",
       "      <td>4thFromOurStar</td>\n",
       "    </tr>\n",
       "  </tbody>\n",
       "</table>\n",
       "</div>"
      ],
      "text/plain": [
       "  created_date                                        description  \\\n",
       "0   2021-01-07  4th from the Sun, also known as the Red Planet...   \n",
       "1   2021-01-07  4th from the Sun, also known as the Red Planet...   \n",
       "2   2021-01-07  4th from the Sun, also known as the Red Planet...   \n",
       "3   2021-01-07  4th from the Sun, also known as the Red Planet...   \n",
       "4   2021-01-07  4th from the Sun, also known as the Red Planet...   \n",
       "\n",
       "   favorites_count  friends_count              user_id  listed_count  \\\n",
       "0             1508             72  1091459141397180416           121   \n",
       "1             1508             72  1091459141397180416           121   \n",
       "2             1508             72  1091459141397180416           121   \n",
       "3             1508             72  1091459141397180416           121   \n",
       "4             1508             72  1091459141397180416           121   \n",
       "\n",
       "              location  name     screen_name  statuses_count   url verified  \\\n",
       "0  The Milkyway Galaxy  Mars  4thFromOurStar             253  None     None   \n",
       "1  The Milkyway Galaxy  Mars  4thFromOurStar             253  None     None   \n",
       "2  The Milkyway Galaxy  Mars  4thFromOurStar             253  None     None   \n",
       "3  The Milkyway Galaxy  Mars  4thFromOurStar             253  None     None   \n",
       "4  The Milkyway Galaxy  Mars  4thFromOurStar             253  None     None   \n",
       "\n",
       "             status_id lang  retweet_count  \\\n",
       "0  1175048579829944320   en             56   \n",
       "1  1234671272602193920   en             56   \n",
       "2  1234762156740050944   en             56   \n",
       "3  1236029449042198528   en             56   \n",
       "4  1237204618850992129   en             56   \n",
       "\n",
       "                                              source  \\\n",
       "0  <a href=\"http://twitter.com/download/android\" ...   \n",
       "1  <a href=\"http://twitter.com/download/android\" ...   \n",
       "2  <a href=\"http://twitter.com/download/android\" ...   \n",
       "3  <a href=\"http://twitter.com/download/android\" ...   \n",
       "4  <a href=\"http://twitter.com/download/android\" ...   \n",
       "\n",
       "                                                text truncated  \\\n",
       "0  I do enjoy playing hard to get 😉 https://t.co/...      None   \n",
       "1  I do enjoy playing hard to get 😉 https://t.co/...      None   \n",
       "2  I do enjoy playing hard to get 😉 https://t.co/...      None   \n",
       "3  I do enjoy playing hard to get 😉 https://t.co/...      None   \n",
       "4  I do enjoy playing hard to get 😉 https://t.co/...      None   \n",
       "\n",
       "  user_screen_name  \n",
       "0   4thFromOurStar  \n",
       "1   4thFromOurStar  \n",
       "2   4thFromOurStar  \n",
       "3   4thFromOurStar  \n",
       "4   4thFromOurStar  "
      ]
     },
     "execution_count": 3,
     "metadata": {},
     "output_type": "execute_result"
    }
   ],
   "source": [
    "df = pd.DataFrame.from_dict(res)\n",
    "df[:5]"
   ]
  },
  {
   "cell_type": "markdown",
   "id": "6a0850b4-e0db-465f-831d-0dfdfabbd99e",
   "metadata": {},
   "source": [
    "## Task 2\n",
    "Write a function, ***get_all_users_tweets(user)***, that takes a user's **screen_name or id** and returns the **count of the number of unique tweets (int)** the user has made."
   ]
  },
  {
   "cell_type": "code",
   "execution_count": 180,
   "id": "00ea192d",
   "metadata": {},
   "outputs": [],
   "source": [
    "def get_all_users_tweets(user):\n",
    "        res = cursor.execute(f\"\"\"select count(status_id) from twitter.statuses as s \n",
    "        inner join twitter.users as u on u.user_id = s.user_id \n",
    "        where (u.screen_name = '{user}' or u.user_id = '{user}')\"\"\")\n",
    "        get_twt = cursor.fetchall()\n",
    "        return get_twt"
   ]
  },
  {
   "cell_type": "code",
   "execution_count": 183,
   "id": "3f878634",
   "metadata": {},
   "outputs": [
    {
     "data": {
      "text/plain": [
       "[RealDictRow([('count', 571)])]"
      ]
     },
     "execution_count": 183,
     "metadata": {},
     "output_type": "execute_result"
    }
   ],
   "source": [
    "get_all_users_tweets('elonmusk')"
   ]
  },
  {
   "cell_type": "markdown",
   "id": "76de0025-74f9-4902-816b-2d3610249d47",
   "metadata": {},
   "source": [
    "## Task 3\n",
    "\n",
    " 1. Calculate the average retweet count per user\n",
    "  - You must accomplish this using a **single SQL query**\n",
    "  - _Hint: GROUP BY will be helpful_\n",
    " 2. Plot the distribution of the averages, where the average is greater than 0 and less than 5000\n",
    "\n",
    "*Note: For this task use the **retweet_count** column in the **statuses** table*"
   ]
  },
  {
   "cell_type": "code",
   "execution_count": 6,
   "id": "7897ffa4-d8ad-4f99-a7e3-ff44d46722eb",
   "metadata": {
    "tags": []
   },
   "outputs": [],
   "source": [
    "import matplotlib.pyplot as plt\n",
    "# query or python (sql query) sql to get the data and panda to present the data and use stat.retweet\n",
    "\n",
    "res2 = cursor.execute(\"\"\"\n",
    "select avg(retweet_count) from twitter.statuses\n",
    "group by user_id having avg(retweet_count) < 5000\n",
    "\"\"\")\n",
    "res2_count = cursor.fetchall()\n",
    "df = pd.DataFrame.from_dict(res2_count)"
   ]
  },
  {
   "cell_type": "code",
   "execution_count": 7,
   "id": "3dec6cf3",
   "metadata": {},
   "outputs": [
    {
     "data": {
      "text/plain": [
       "Text(0, 0.5, 'Users Count')"
      ]
     },
     "execution_count": 7,
     "metadata": {},
     "output_type": "execute_result"
    },
    {
     "data": {
      "image/png": "[encoded data removed]",
      "text/plain": [
       "<Figure size 640x480 with 1 Axes>"
      ]
     },
     "metadata": {},
     "output_type": "display_data"
    }
   ],
   "source": [
    "plt.hist(df, facecolor='blue', alpha=0.5)\n",
    "plt.xlabel('Average Retweets')\n",
    "plt.ylabel('Users Count')"
   ]
  },
  {
   "cell_type": "markdown",
   "id": "0bf3eeb4-1dd3-485b-a7d0-6c00361bcf75",
   "metadata": {},
   "source": [
    "## Task 4\n",
    "\n",
    " 1. Write a function that takes a user's screen_name or id and determines, using a SQL query, the number of secondary friends that user has (friends of friends).\n",
    " 2. Write a couple of sentences about how this function/query would need to change if we wanted to further extend the number of hops or tertiary/etc. friends we wanted to evaluate."
   ]
  },
  {
   "cell_type": "code",
   "execution_count": 192,
   "id": "b36a4387",
   "metadata": {},
   "outputs": [],
   "source": [
    "def fof(user):\n",
    "    res = cursor.execute(f\"\"\"select count(distinct(screen_name)) from twitter.users as u \n",
    "    inner join twitter.friends as f on u.user_id = f.friend_id \n",
    "    inner join twitter.friends as f2 on f.user_id = f2.friend_id \n",
    "    where (f2.user_id = '{user}' or f2.user_screen_name = '{user}');\"\"\")\n",
    "    get_fof = cursor.fetchall()\n",
    "    return get_fof"
   ]
  },
  {
   "cell_type": "code",
   "execution_count": 193,
   "id": "2b3dbb2c",
   "metadata": {},
   "outputs": [
    {
     "data": {
      "text/plain": [
       "[RealDictRow([('count', 94)])]"
      ]
     },
     "execution_count": 193,
     "metadata": {},
     "output_type": "execute_result"
    }
   ],
   "source": [
    "fof('elonmusk')"
   ]
  },
  {
   "cell_type": "code",
   "execution_count": 191,
   "id": "564f1eca",
   "metadata": {},
   "outputs": [
    {
     "name": "stdout",
     "output_type": "stream",
     "text": [
      "This function used inner join to use users tables with two friends tables to get user's friends of friends.\n",
      "For getting number of hops or tertiary friends, we can inner join more friends tables to get their friends of tertiary or more.\n",
      "We can simply evaulate from inner join the table with user_id of previous friends table and friend_id of new friends table.\n"
     ]
    }
   ],
   "source": [
    "print(f\"\"\"This function used inner join to use users tables with two friends tables to get user's friends of friends.\n",
    "For getting number of hops or tertiary friends, we can inner join more friends tables to get their friends of tertiary or more.\n",
    "We can simply evaulate from inner join the table with user_id of previous friends table and friend_id of new friends table.\"\"\")"
   ]
  },
  {
   "cell_type": "markdown",
   "id": "ebbef25c-8a00-4b77-9196-13a47d3836ad",
   "metadata": {},
   "source": [
    "## Task 5\n",
    "Write a function that will determine, for a given user, the percentage of their favorite tweets that were made by their friends:\n",
    "\n",
    "$$\\frac{\\text{# of tweets favorited by the user and made by the user's friends}}{\\text{# of tweets favorited by user}}$$\n",
    "\n",
    "_Note: # of favorited tweets should be based off of the **favorites** table, and friendship should be based off of the **friends** table_\n",
    "\n",
    "**Hint: For user - 'elonmusk' you should get $\\frac{88}{224}$ or ~39.3%**"
   ]
  },
  {
   "cell_type": "code",
   "execution_count": 2,
   "id": "d2b9d23c-c463-4ce2-803f-39f59b7d65dd",
   "metadata": {},
   "outputs": [],
   "source": [
    "def fav_percent(user):\n",
    "    res = cursor.execute(f\"select * from twitter.favorites where user_screen_name = '{user}'\")\n",
    "    fav_user = len(cursor.fetchall())\n",
    "    print(fav_user)\n",
    "    res2 = cursor.execute(f\"\"\"\n",
    "    select * from twitter.favorites join twitter.statuses on favorites.status_id = statuses.status_id\n",
    "    join twitter.friends on favorites.user_id = friends.user_id where statuses.user_id = friends.friend_id\n",
    "    and (favorites.user_screen_name ='{user}' or favorites.user_id = '{user}');\"\"\")\n",
    "    fav_friends = len(cursor.fetchall())\n",
    "    print(fav_friends)\n",
    "    percentage = print(\"Percentage = \" + str(fav_friends/fav_user))\n",
    "    return percentage"
   ]
  },
  {
   "cell_type": "code",
   "execution_count": 3,
   "id": "661fa966",
   "metadata": {},
   "outputs": [
    {
     "name": "stdout",
     "output_type": "stream",
     "text": [
      "224\n",
      "88\n",
      "Percentage = 0.39285714285714285\n"
     ]
    }
   ],
   "source": [
    "fav_percent('elonmusk')"
   ]
  }
 ],
 "metadata": {
  "kernelspec": {
   "display_name": "Python 3 (ipykernel)",
   "language": "python",
   "name": "python3"
  },
  "language_info": {
   "codemirror_mode": {
    "name": "ipython",
    "version": 3
   },
   "file_extension": ".py",
   "mimetype": "text/x-python",
   "name": "python",
   "nbconvert_exporter": "python",
   "pygments_lexer": "ipython3",
   "version": "3.9.13"
  }
 },
 "nbformat": 4,
 "nbformat_minor": 5
}
